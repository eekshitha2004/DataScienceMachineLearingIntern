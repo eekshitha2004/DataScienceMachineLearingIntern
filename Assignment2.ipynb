{
 "cells": [
  {
   "cell_type": "markdown",
   "id": "40655013",
   "metadata": {},
   "source": [
    "# Data Science & Machine Learning Internship Assignment II"
   ]
  },
  {
   "cell_type": "markdown",
   "id": "fd0af747",
   "metadata": {},
   "source": [
    "Perform the following operations using the given two arrays.\n",
    "A1=[11,33,22,44,66,55]\n",
    "A2=[10,30,20,40,60,50]\n",
    "\n",
    "1.   Extract the elements of array A1 from the index 2 to 5\n",
    "2.   Reshape the array A1 into (3,2) size.\n",
    "3.   Join the two arrays A1 and A2.\n",
    "4.   Split the array A1 into 3 arrays.\n",
    "5.   Search for a number 44 in the array A1\n",
    "6.   Print all the even numbers of array A1 using search option.\n",
    "7.   Sort the numbers of array A2.\n",
    "8.   Filter the odd numbers in the array A1 using filter option."
   ]
  },
  {
   "cell_type": "code",
   "execution_count": 1,
   "id": "a1b06a42",
   "metadata": {},
   "outputs": [
    {
     "name": "stdout",
     "output_type": "stream",
     "text": [
      "[11 33 22 44 66 55]\n",
      "[10 30 20 40 60 50]\n"
     ]
    }
   ],
   "source": [
    "#Array Creation\n",
    "import numpy as np\n",
    "arr1 = np.array([11,33,22,44,66,55])\n",
    "arr2 = np.array([10,30,20,40,60,50])\n",
    "print(arr1)\n",
    "print(arr2)"
   ]
  },
  {
   "cell_type": "code",
   "execution_count": 3,
   "id": "563330ec",
   "metadata": {},
   "outputs": [
    {
     "name": "stdout",
     "output_type": "stream",
     "text": [
      "[22 44 66 55]\n",
      "[22 44 66 55]\n"
     ]
    }
   ],
   "source": [
    "# 1. Extract the elements of array A1 from the index 2 to 5\n",
    "print(arr1[2:6])\n",
    "print(arr1[2:])"
   ]
  },
  {
   "cell_type": "code",
   "execution_count": 5,
   "id": "325c8f92",
   "metadata": {},
   "outputs": [
    {
     "name": "stdout",
     "output_type": "stream",
     "text": [
      "[[11 33]\n",
      " [22 44]\n",
      " [66 55]]\n"
     ]
    }
   ],
   "source": [
    "# 2. Reshape the array A1 into (3,2) size.\n",
    "newarr = arr1.reshape(3,2)\n",
    "print(newarr)"
   ]
  },
  {
   "cell_type": "code",
   "execution_count": 10,
   "id": "c8f68a4c",
   "metadata": {},
   "outputs": [
    {
     "name": "stdout",
     "output_type": "stream",
     "text": [
      "combining the arrays\n",
      "[11 33 22 44 66 55 10 30 20 40 60 50]\n"
     ]
    }
   ],
   "source": [
    "# 3. Join the two arrays A1 and A2\n",
    "print(\"combining the arrays\")\n",
    "print(np.concatenate((arr1,arr2)))"
   ]
  },
  {
   "cell_type": "code",
   "execution_count": 11,
   "id": "3a8aa38f",
   "metadata": {},
   "outputs": [
    {
     "name": "stdout",
     "output_type": "stream",
     "text": [
      "[array([11, 33]), array([22, 44]), array([66, 55])]\n"
     ]
    }
   ],
   "source": [
    "# 4. Split the array A1 into 3 arrays\n",
    "print(np.array_split(arr1,3))"
   ]
  },
  {
   "cell_type": "code",
   "execution_count": 12,
   "id": "93367eb8",
   "metadata": {},
   "outputs": [
    {
     "name": "stdout",
     "output_type": "stream",
     "text": [
      "(array([], dtype=int64),)\n"
     ]
    }
   ],
   "source": [
    "# 5. Search for a number 44 in the array A1\n",
    "print(np.where(arr1 == 4))"
   ]
  },
  {
   "cell_type": "code",
   "execution_count": 15,
   "id": "0fbe8f12",
   "metadata": {},
   "outputs": [
    {
     "name": "stdout",
     "output_type": "stream",
     "text": [
      "[22 44 66]\n"
     ]
    }
   ],
   "source": [
    "# 6. Print all the even numbers of array A1 using search option.\n",
    "even_index = np.where(arr1 % 2 == 0)\n",
    "for i in even_index:\n",
    "    print(arr1[i])"
   ]
  },
  {
   "cell_type": "code",
   "execution_count": 16,
   "id": "45cc4866",
   "metadata": {},
   "outputs": [
    {
     "name": "stdout",
     "output_type": "stream",
     "text": [
      "[10 20 30 40 50 60]\n"
     ]
    }
   ],
   "source": [
    "# 7. Sort the numbers of array A2.\n",
    "print(np.sort(arr2))"
   ]
  },
  {
   "cell_type": "code",
   "execution_count": 17,
   "id": "44329efc",
   "metadata": {},
   "outputs": [
    {
     "name": "stdout",
     "output_type": "stream",
     "text": [
      "[11 33 55]\n"
     ]
    }
   ],
   "source": [
    "# 8. Filter the odd numbers in the array A1 using filter option.\n",
    "odd_num = arr1 % 2 != 0\n",
    "print(arr1[odd_num])"
   ]
  }
 ],
 "metadata": {
  "kernelspec": {
   "display_name": "Python 3 (ipykernel)",
   "language": "python",
   "name": "python3"
  },
  "language_info": {
   "codemirror_mode": {
    "name": "ipython",
    "version": 3
   },
   "file_extension": ".py",
   "mimetype": "text/x-python",
   "name": "python",
   "nbconvert_exporter": "python",
   "pygments_lexer": "ipython3",
   "version": "3.10.9"
  }
 },
 "nbformat": 4,
 "nbformat_minor": 5
}
