{
 "cells": [
  {
   "cell_type": "markdown",
   "id": "7bd8767d",
   "metadata": {},
   "source": [
    "# Data Science & Machine Learning Internship Assignment I"
   ]
  },
  {
   "cell_type": "raw",
   "id": "afa12ff5",
   "metadata": {},
   "source": [
    "1. Write a python code to create the following table of data using dataframe and count the\n",
    "number of rows and colums.\n",
    "\n",
    "10 40 70 100\n",
    "20 50 80 110\n",
    "30 60 90 120"
   ]
  },
  {
   "cell_type": "code",
   "execution_count": 1,
   "id": "3c7db8fd",
   "metadata": {},
   "outputs": [
    {
     "name": "stdout",
     "output_type": "stream",
     "text": [
      "   col1  col2  col3  col4\n",
      "0    10    40    70   100\n",
      "1    20    50    80   110\n",
      "2    30    60    90   120\n"
     ]
    }
   ],
   "source": [
    "import pandas as pd\n",
    "data = {\n",
    "    'col1':[10,20,30],'col2':[40,50,60],'col3':[70,80,90],'col4':[100,110,120]\n",
    "}\n",
    "df = pd.DataFrame(data)\n",
    "print(df)"
   ]
  },
  {
   "cell_type": "code",
   "execution_count": 3,
   "id": "2c7b903a",
   "metadata": {},
   "outputs": [
    {
     "name": "stdout",
     "output_type": "stream",
     "text": [
      "No. of rows :  3\n",
      "No. of columns :  4\n"
     ]
    }
   ],
   "source": [
    "print(\"No. of rows : \",df.shape[0])\n",
    "print(\"No. of columns : \",df.shape[1])"
   ]
  },
  {
   "cell_type": "raw",
   "id": "7d90478c",
   "metadata": {},
   "source": [
    "2. Write a python program to read the given data.csv file(file is attached in mail) and\n",
    "perform the following\n",
    "a. Print the dataset.\n",
    "b. Print only the first 5 rows in the data.\n",
    "c. Remove the NULL values in the data.\n",
    "d. Analyze the data and find out count, Mean, Std, Min, Max, 25 th percentile, 50 th\n",
    "percentile, 75 th percentile."
   ]
  },
  {
   "cell_type": "code",
   "execution_count": 5,
   "id": "a5240c0d",
   "metadata": {},
   "outputs": [],
   "source": [
    "import pandas as pd\n",
    "df = pd.read_csv('data.csv')"
   ]
  },
  {
   "cell_type": "code",
   "execution_count": 6,
   "id": "ec2662a1",
   "metadata": {},
   "outputs": [
    {
     "name": "stdout",
     "output_type": "stream",
     "text": [
      "       Price  Area                     Location  No. of Bedrooms  Gymnasium  \\\n",
      "0    6968000  1340                     Nizampet              2.0        1.0   \n",
      "1   29000000  3498                  Hitech City              4.0        1.0   \n",
      "2    6590000  1318                    Manikonda              2.0        1.0   \n",
      "3    5739000  1295                        Alwal              3.0        0.0   \n",
      "4    5679000  1145                   Kukatpally              2.0        0.0   \n",
      "5    6099000  1230                     Nizampet              2.0        0.0   \n",
      "6    7000000  1350                    Manikonda              2.0        0.0   \n",
      "7    4198000  1400                   Gachibowli              3.0        1.0   \n",
      "8    9900000  2240                     Tellapur              NaN        NaN   \n",
      "9    9800000  1520                   Gachibowli              2.0        0.0   \n",
      "10   8903000  1535                      Kokapet              3.0        1.0   \n",
      "11   6300000  1150                  Hyder Nagar              2.0        0.0   \n",
      "12   6300000  1285                  Mehdipatnam              2.0        0.0   \n",
      "13   9000000  1897                     Tellapur              3.0        1.0   \n",
      "14  11100000  1725                     Narsingi              3.0        1.0   \n",
      "15  11500000   XYZ  Khajaguda Nanakramguda Road              3.0        NaN   \n",
      "16  10900000  1592                   Kukatpally              3.0        1.0   \n",
      "17   8625000  1150                     Madhapur              2.0        0.0   \n",
      "18   9900000  2240                     Tellapur              3.0        1.0   \n",
      "\n",
      "    SwimmingPool  JoggingTrack  RainWaterHarvesting  IndoorGames  \n",
      "0            1.0           1.0                  1.0          1.0  \n",
      "1            1.0           1.0                  1.0          1.0  \n",
      "2            0.0           0.0                  0.0          1.0  \n",
      "3            0.0           0.0                  0.0          0.0  \n",
      "4            0.0           0.0                  0.0          0.0  \n",
      "5            0.0           0.0                  0.0          0.0  \n",
      "6            0.0           0.0                  0.0          0.0  \n",
      "7            1.0           0.0                  0.0          0.0  \n",
      "8            NaN           0.0                  0.0          1.0  \n",
      "9            0.0           0.0                  0.0          0.0  \n",
      "10           1.0           1.0                  1.0          1.0  \n",
      "11           0.0           0.0                  0.0          0.0  \n",
      "12           0.0           NaN                  NaN          NaN  \n",
      "13           1.0           1.0                  1.0          1.0  \n",
      "14           1.0           1.0                  0.0          1.0  \n",
      "15           NaN           0.0                  0.0          0.0  \n",
      "16           1.0           0.0                  0.0          0.0  \n",
      "17           0.0           0.0                  0.0          0.0  \n",
      "18           1.0           0.0                  0.0          1.0  \n"
     ]
    }
   ],
   "source": [
    "# a) Print the dataset.\n",
    "print(df)"
   ]
  },
  {
   "cell_type": "code",
   "execution_count": 7,
   "id": "90ac55b3",
   "metadata": {},
   "outputs": [
    {
     "name": "stdout",
     "output_type": "stream",
     "text": [
      "      Price  Area     Location  No. of Bedrooms  Gymnasium  SwimmingPool  \\\n",
      "0   6968000  1340     Nizampet              2.0        1.0           1.0   \n",
      "1  29000000  3498  Hitech City              4.0        1.0           1.0   \n",
      "2   6590000  1318    Manikonda              2.0        1.0           0.0   \n",
      "3   5739000  1295        Alwal              3.0        0.0           0.0   \n",
      "4   5679000  1145   Kukatpally              2.0        0.0           0.0   \n",
      "\n",
      "   JoggingTrack  RainWaterHarvesting  IndoorGames  \n",
      "0           1.0                  1.0          1.0  \n",
      "1           1.0                  1.0          1.0  \n",
      "2           0.0                  0.0          1.0  \n",
      "3           0.0                  0.0          0.0  \n",
      "4           0.0                  0.0          0.0  \n"
     ]
    }
   ],
   "source": [
    "# b) Print only the first 5 rows in the data.\n",
    "print(df.head())"
   ]
  },
  {
   "cell_type": "code",
   "execution_count": 8,
   "id": "8a0e5b89",
   "metadata": {},
   "outputs": [
    {
     "name": "stdout",
     "output_type": "stream",
     "text": [
      "       Price  Area     Location  No. of Bedrooms  Gymnasium  SwimmingPool  \\\n",
      "0    6968000  1340     Nizampet              2.0        1.0           1.0   \n",
      "1   29000000  3498  Hitech City              4.0        1.0           1.0   \n",
      "2    6590000  1318    Manikonda              2.0        1.0           0.0   \n",
      "3    5739000  1295        Alwal              3.0        0.0           0.0   \n",
      "4    5679000  1145   Kukatpally              2.0        0.0           0.0   \n",
      "5    6099000  1230     Nizampet              2.0        0.0           0.0   \n",
      "6    7000000  1350    Manikonda              2.0        0.0           0.0   \n",
      "7    4198000  1400   Gachibowli              3.0        1.0           1.0   \n",
      "9    9800000  1520   Gachibowli              2.0        0.0           0.0   \n",
      "10   8903000  1535      Kokapet              3.0        1.0           1.0   \n",
      "11   6300000  1150  Hyder Nagar              2.0        0.0           0.0   \n",
      "13   9000000  1897     Tellapur              3.0        1.0           1.0   \n",
      "14  11100000  1725     Narsingi              3.0        1.0           1.0   \n",
      "16  10900000  1592   Kukatpally              3.0        1.0           1.0   \n",
      "17   8625000  1150     Madhapur              2.0        0.0           0.0   \n",
      "18   9900000  2240     Tellapur              3.0        1.0           1.0   \n",
      "\n",
      "    JoggingTrack  RainWaterHarvesting  IndoorGames  \n",
      "0            1.0                  1.0          1.0  \n",
      "1            1.0                  1.0          1.0  \n",
      "2            0.0                  0.0          1.0  \n",
      "3            0.0                  0.0          0.0  \n",
      "4            0.0                  0.0          0.0  \n",
      "5            0.0                  0.0          0.0  \n",
      "6            0.0                  0.0          0.0  \n",
      "7            0.0                  0.0          0.0  \n",
      "9            0.0                  0.0          0.0  \n",
      "10           1.0                  1.0          1.0  \n",
      "11           0.0                  0.0          0.0  \n",
      "13           1.0                  1.0          1.0  \n",
      "14           1.0                  0.0          1.0  \n",
      "16           0.0                  0.0          0.0  \n",
      "17           0.0                  0.0          0.0  \n",
      "18           0.0                  0.0          1.0  \n"
     ]
    }
   ],
   "source": [
    "# c) Remove the NULL values in the data.\n",
    "df.dropna(axis=0,inplace=True)\n",
    "print(df)"
   ]
  },
  {
   "cell_type": "code",
   "execution_count": 10,
   "id": "e8112d27",
   "metadata": {},
   "outputs": [
    {
     "name": "stdout",
     "output_type": "stream",
     "text": [
      "<class 'pandas.core.frame.DataFrame'>\n",
      "Int64Index: 16 entries, 0 to 18\n",
      "Data columns (total 9 columns):\n",
      " #   Column               Non-Null Count  Dtype  \n",
      "---  ------               --------------  -----  \n",
      " 0   Price                16 non-null     int64  \n",
      " 1   Area                 16 non-null     object \n",
      " 2   Location             16 non-null     object \n",
      " 3   No. of Bedrooms      16 non-null     float64\n",
      " 4   Gymnasium            16 non-null     float64\n",
      " 5   SwimmingPool         16 non-null     float64\n",
      " 6   JoggingTrack         16 non-null     float64\n",
      " 7   RainWaterHarvesting  16 non-null     float64\n",
      " 8   IndoorGames          16 non-null     float64\n",
      "dtypes: float64(6), int64(1), object(2)\n",
      "memory usage: 1.2+ KB\n",
      "\n"
     ]
    },
    {
     "data": {
      "text/html": [
       "<div>\n",
       "<style scoped>\n",
       "    .dataframe tbody tr th:only-of-type {\n",
       "        vertical-align: middle;\n",
       "    }\n",
       "\n",
       "    .dataframe tbody tr th {\n",
       "        vertical-align: top;\n",
       "    }\n",
       "\n",
       "    .dataframe thead th {\n",
       "        text-align: right;\n",
       "    }\n",
       "</style>\n",
       "<table border=\"1\" class=\"dataframe\">\n",
       "  <thead>\n",
       "    <tr style=\"text-align: right;\">\n",
       "      <th></th>\n",
       "      <th>Price</th>\n",
       "      <th>No. of Bedrooms</th>\n",
       "      <th>Gymnasium</th>\n",
       "      <th>SwimmingPool</th>\n",
       "      <th>JoggingTrack</th>\n",
       "      <th>RainWaterHarvesting</th>\n",
       "      <th>IndoorGames</th>\n",
       "    </tr>\n",
       "  </thead>\n",
       "  <tbody>\n",
       "    <tr>\n",
       "      <th>count</th>\n",
       "      <td>1.600000e+01</td>\n",
       "      <td>16.000000</td>\n",
       "      <td>16.000000</td>\n",
       "      <td>16.000000</td>\n",
       "      <td>16.000000</td>\n",
       "      <td>16.000000</td>\n",
       "      <td>16.000000</td>\n",
       "    </tr>\n",
       "    <tr>\n",
       "      <th>mean</th>\n",
       "      <td>9.112562e+06</td>\n",
       "      <td>2.562500</td>\n",
       "      <td>0.562500</td>\n",
       "      <td>0.500000</td>\n",
       "      <td>0.312500</td>\n",
       "      <td>0.250000</td>\n",
       "      <td>0.437500</td>\n",
       "    </tr>\n",
       "    <tr>\n",
       "      <th>std</th>\n",
       "      <td>5.679100e+06</td>\n",
       "      <td>0.629153</td>\n",
       "      <td>0.512348</td>\n",
       "      <td>0.516398</td>\n",
       "      <td>0.478714</td>\n",
       "      <td>0.447214</td>\n",
       "      <td>0.512348</td>\n",
       "    </tr>\n",
       "    <tr>\n",
       "      <th>min</th>\n",
       "      <td>4.198000e+06</td>\n",
       "      <td>2.000000</td>\n",
       "      <td>0.000000</td>\n",
       "      <td>0.000000</td>\n",
       "      <td>0.000000</td>\n",
       "      <td>0.000000</td>\n",
       "      <td>0.000000</td>\n",
       "    </tr>\n",
       "    <tr>\n",
       "      <th>25%</th>\n",
       "      <td>6.249750e+06</td>\n",
       "      <td>2.000000</td>\n",
       "      <td>0.000000</td>\n",
       "      <td>0.000000</td>\n",
       "      <td>0.000000</td>\n",
       "      <td>0.000000</td>\n",
       "      <td>0.000000</td>\n",
       "    </tr>\n",
       "    <tr>\n",
       "      <th>50%</th>\n",
       "      <td>7.812500e+06</td>\n",
       "      <td>2.500000</td>\n",
       "      <td>1.000000</td>\n",
       "      <td>0.500000</td>\n",
       "      <td>0.000000</td>\n",
       "      <td>0.000000</td>\n",
       "      <td>0.000000</td>\n",
       "    </tr>\n",
       "    <tr>\n",
       "      <th>75%</th>\n",
       "      <td>9.825000e+06</td>\n",
       "      <td>3.000000</td>\n",
       "      <td>1.000000</td>\n",
       "      <td>1.000000</td>\n",
       "      <td>1.000000</td>\n",
       "      <td>0.250000</td>\n",
       "      <td>1.000000</td>\n",
       "    </tr>\n",
       "    <tr>\n",
       "      <th>max</th>\n",
       "      <td>2.900000e+07</td>\n",
       "      <td>4.000000</td>\n",
       "      <td>1.000000</td>\n",
       "      <td>1.000000</td>\n",
       "      <td>1.000000</td>\n",
       "      <td>1.000000</td>\n",
       "      <td>1.000000</td>\n",
       "    </tr>\n",
       "  </tbody>\n",
       "</table>\n",
       "</div>"
      ],
      "text/plain": [
       "              Price  No. of Bedrooms  Gymnasium  SwimmingPool  JoggingTrack  \\\n",
       "count  1.600000e+01        16.000000  16.000000     16.000000     16.000000   \n",
       "mean   9.112562e+06         2.562500   0.562500      0.500000      0.312500   \n",
       "std    5.679100e+06         0.629153   0.512348      0.516398      0.478714   \n",
       "min    4.198000e+06         2.000000   0.000000      0.000000      0.000000   \n",
       "25%    6.249750e+06         2.000000   0.000000      0.000000      0.000000   \n",
       "50%    7.812500e+06         2.500000   1.000000      0.500000      0.000000   \n",
       "75%    9.825000e+06         3.000000   1.000000      1.000000      1.000000   \n",
       "max    2.900000e+07         4.000000   1.000000      1.000000      1.000000   \n",
       "\n",
       "       RainWaterHarvesting  IndoorGames  \n",
       "count            16.000000    16.000000  \n",
       "mean              0.250000     0.437500  \n",
       "std               0.447214     0.512348  \n",
       "min               0.000000     0.000000  \n",
       "25%               0.000000     0.000000  \n",
       "50%               0.000000     0.000000  \n",
       "75%               0.250000     1.000000  \n",
       "max               1.000000     1.000000  "
      ]
     },
     "execution_count": 10,
     "metadata": {},
     "output_type": "execute_result"
    }
   ],
   "source": [
    "# d) Analyze the data and find out count, Mean, Std, Min, Max, 25 th percentile, 50 th percentile, 75 th percentile.\n",
    "df.info()\n",
    "print()\n",
    "df.describe()"
   ]
  },
  {
   "cell_type": "code",
   "execution_count": null,
   "id": "907dc26f",
   "metadata": {},
   "outputs": [],
   "source": []
  }
 ],
 "metadata": {
  "kernelspec": {
   "display_name": "Python 3 (ipykernel)",
   "language": "python",
   "name": "python3"
  },
  "language_info": {
   "codemirror_mode": {
    "name": "ipython",
    "version": 3
   },
   "file_extension": ".py",
   "mimetype": "text/x-python",
   "name": "python",
   "nbconvert_exporter": "python",
   "pygments_lexer": "ipython3",
   "version": "3.10.9"
  }
 },
 "nbformat": 4,
 "nbformat_minor": 5
}
